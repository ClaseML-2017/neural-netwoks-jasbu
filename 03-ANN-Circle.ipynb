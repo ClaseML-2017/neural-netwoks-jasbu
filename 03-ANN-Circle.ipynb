{
 "cells": [
  {
   "cell_type": "code",
   "execution_count": 43,
   "metadata": {},
   "outputs": [],
   "source": [
    "from __future__ import division\n",
    "import matplotlib.pyplot as plt\n",
    "import tensorflow as tf\n",
    "import numpy as np\n",
    "%matplotlib inline"
   ]
  },
  {
   "cell_type": "markdown",
   "metadata": {},
   "source": [
    "# ANN - XOR"
   ]
  },
  {
   "cell_type": "code",
   "execution_count": 44,
   "metadata": {},
   "outputs": [],
   "source": [
    "x1 = np.random.uniform(-1.25,1.25,10000)\n",
    "x2 = np.random.uniform(-1.25,1.25,10000)\n",
    "x3 = x1 ** 2\n",
    "x4 = x2 ** 2\n",
    "y = x3 + x4 <= 1\n",
    "y = y.astype(int)"
   ]
  },
  {
   "cell_type": "code",
   "execution_count": 45,
   "metadata": {},
   "outputs": [],
   "source": [
    "X=np.asarray([[x1[i],x2[i],x3[i],x4[i]] for i in range(0,len(x1))])\n",
    "Y=np.asarray([[elem] for elem in y])"
   ]
  },
  {
   "cell_type": "markdown",
   "metadata": {},
   "source": [
    "Declaracion de variables"
   ]
  },
  {
   "cell_type": "code",
   "execution_count": 46,
   "metadata": {},
   "outputs": [],
   "source": [
    "input_size=4\n",
    "hidden_layers=4\n",
    "middle_layer=4\n",
    "output_size=1\n",
    "x=tf.placeholder(tf.float32,shape=[None,input_size])\n",
    "y_=tf.placeholder(tf.float32,shape=[None,output_size])"
   ]
  },
  {
   "cell_type": "markdown",
   "metadata": {},
   "source": [
    "Operaciones, grafo"
   ]
  },
  {
   "cell_type": "code",
   "execution_count": 47,
   "metadata": {},
   "outputs": [],
   "source": [
    "W_layer1 = tf.Variable(tf.random_uniform([input_size,middle_layer], -1, 1), name=\"W_layer1\")\n",
    "b_layer1 = tf.Variable(tf.zeros([middle_layer]), name=\"b_layer1\")"
   ]
  },
  {
   "cell_type": "code",
   "execution_count": 48,
   "metadata": {},
   "outputs": [],
   "source": [
    "W_layer2 = tf.Variable(tf.random_uniform([hidden_layers,output_size], -1, 1), name=\"W_layer2\")\n",
    "b_layer2 = tf.Variable(tf.zeros([output_size]), name=\"b_layer2\")"
   ]
  },
  {
   "cell_type": "code",
   "execution_count": 49,
   "metadata": {},
   "outputs": [],
   "source": [
    "hidden_1=tf.nn.sigmoid(tf.matmul(x,W_layer1)+b_layer1)\n",
    "y= tf.nn.sigmoid(tf.matmul(hidden_1,W_layer2)+b_layer2)\n",
    "lossfn= tf.reduce_mean(( (y_ * tf.log(y)) +  \n",
    "  ((1 - y_) * tf.log(1.0 - y)) ) * -1) # cross entropy\n",
    "train_step = tf.train.GradientDescentOptimizer(0.01).minimize(lossfn)"
   ]
  },
  {
   "cell_type": "code",
   "execution_count": 50,
   "metadata": {},
   "outputs": [
    {
     "name": "stdout",
     "output_type": "stream",
     "text": [
      "WARNING:tensorflow:From /home/asbu/.local/lib/python2.7/site-packages/tensorflow/python/util/tf_should_use.py:175: initialize_all_variables (from tensorflow.python.ops.variables) is deprecated and will be removed after 2017-03-02.\n",
      "Instructions for updating:\n",
      "Use `tf.global_variables_initializer` instead.\n"
     ]
    }
   ],
   "source": [
    "init = tf.initialize_all_variables()\n",
    "sess = tf.Session() # tipo de sesion, puede ser interactiva\n"
   ]
  },
  {
   "cell_type": "markdown",
   "metadata": {},
   "source": [
    "Correr programa"
   ]
  },
  {
   "cell_type": "code",
   "execution_count": 51,
   "metadata": {},
   "outputs": [],
   "source": [
    "sess.run(init)\n",
    "for i in range(50000):\n",
    "  sess.run(train_step, feed_dict={x: X, y_: Y})"
   ]
  },
  {
   "cell_type": "markdown",
   "metadata": {},
   "source": [
    "Cuantificar Error"
   ]
  },
  {
   "cell_type": "code",
   "execution_count": 52,
   "metadata": {},
   "outputs": [
    {
     "name": "stdout",
     "output_type": "stream",
     "text": [
      "0.9987\n"
     ]
    }
   ],
   "source": [
    "correct_prediction = tf.equal(tf.round(y),y_) \n",
    "accuracy = tf.reduce_mean(tf.cast(correct_prediction, tf.float32))\n",
    "print(sess.run(accuracy, feed_dict={x: X, y_: Y})) "
   ]
  },
  {
   "cell_type": "markdown",
   "metadata": {},
   "source": [
    "Visualizar Barrera de Decisión. Sacar las w del grafo de Tensorflow"
   ]
  },
  {
   "cell_type": "code",
   "execution_count": 53,
   "metadata": {},
   "outputs": [
    {
     "data": {
      "image/png": "[encoded data removed]",
      "text/plain": [
       "<matplotlib.figure.Figure at 0x7f64ef4823d0>"
      ]
     },
     "metadata": {},
     "output_type": "display_data"
    }
   ],
   "source": [
    "prediction = sess.run(y,feed_dict={x:X})\n",
    "plt.scatter(x2, x1, c=['red' if i < 0.5 else 'blue' for i in prediction])\n",
    "plt.ylim([-1.25,1.25])\n",
    "plt.xlim([-1.25,1.25])\n",
    "plt.show()"
   ]
  },
  {
   "cell_type": "code",
   "execution_count": 54,
   "metadata": {},
   "outputs": [],
   "source": [
    "sess.close()"
   ]
  },
  {
   "cell_type": "code",
   "execution_count": null,
   "metadata": {},
   "outputs": [],
   "source": []
  }
 ],
 "metadata": {
  "kernelspec": {
   "display_name": "Python 2",
   "language": "python",
   "name": "python2"
  },
  "language_info": {
   "codemirror_mode": {
    "name": "ipython",
    "version": 2
   },
   "file_extension": ".py",
   "mimetype": "text/x-python",
   "name": "python",
   "nbconvert_exporter": "python",
   "pygments_lexer": "ipython2",
   "version": "2.7.12"
  }
 },
 "nbformat": 4,
 "nbformat_minor": 1
}
