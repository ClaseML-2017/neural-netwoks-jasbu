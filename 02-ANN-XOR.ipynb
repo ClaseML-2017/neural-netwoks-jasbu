{
 "cells": [
  {
   "cell_type": "code",
   "execution_count": 68,
   "metadata": {},
   "outputs": [],
   "source": [
    "from __future__ import division\n",
    "import matplotlib.pyplot as plt\n",
    "import tensorflow as tf\n",
    "import numpy as np\n",
    "%matplotlib inline"
   ]
  },
  {
   "cell_type": "markdown",
   "metadata": {},
   "source": [
    "# ANN - XOR"
   ]
  },
  {
   "cell_type": "code",
   "execution_count": 69,
   "metadata": {},
   "outputs": [],
   "source": [
    "X=np.asarray([[0,0],[0,1],[1,0],[1,1]])\n",
    "Y=np.asarray([[0],[1],[1],[0]])"
   ]
  },
  {
   "cell_type": "markdown",
   "metadata": {},
   "source": [
    "Declaracion de variables"
   ]
  },
  {
   "cell_type": "code",
   "execution_count": 70,
   "metadata": {},
   "outputs": [],
   "source": [
    "input_size=2\n",
    "hidden_layers=2\n",
    "middle_layer=2\n",
    "output_size=1\n",
    "x=tf.placeholder(tf.float32,shape=[None,input_size])\n",
    "y_=tf.placeholder(tf.float32,shape=[None,output_size])"
   ]
  },
  {
   "cell_type": "markdown",
   "metadata": {},
   "source": [
    "Operaciones, grafo"
   ]
  },
  {
   "cell_type": "code",
   "execution_count": 71,
   "metadata": {},
   "outputs": [],
   "source": [
    "W_layer1 = tf.Variable(tf.random_uniform([input_size,middle_layer], -1, 1), name=\"W_layer1\")\n",
    "b_layer1 = tf.Variable(tf.zeros([middle_layer]), name=\"b_layer1\")"
   ]
  },
  {
   "cell_type": "code",
   "execution_count": 72,
   "metadata": {},
   "outputs": [],
   "source": [
    "W_layer2 = tf.Variable(tf.random_uniform([hidden_layers,output_size], -1, 1), name=\"W_layer2\")\n",
    "b_layer2 = tf.Variable(tf.zeros([output_size]), name=\"b_layer2\")"
   ]
  },
  {
   "cell_type": "code",
   "execution_count": 73,
   "metadata": {},
   "outputs": [],
   "source": [
    "hidden_1=tf.nn.sigmoid(tf.matmul(x,W_layer1)+b_layer1)\n",
    "y= tf.nn.sigmoid(tf.matmul(hidden_1,W_layer2)+b_layer2) \n",
    "lossfn = tf.reduce_mean(tf.reduce_sum((y_-y)**2)) \n",
    "train_step = tf.train.GradientDescentOptimizer(0.01).minimize(lossfn)"
   ]
  },
  {
   "cell_type": "code",
   "execution_count": 74,
   "metadata": {},
   "outputs": [
    {
     "name": "stdout",
     "output_type": "stream",
     "text": [
      "WARNING:tensorflow:From /home/asbu/.local/lib/python2.7/site-packages/tensorflow/python/util/tf_should_use.py:175: initialize_all_variables (from tensorflow.python.ops.variables) is deprecated and will be removed after 2017-03-02.\n",
      "Instructions for updating:\n",
      "Use `tf.global_variables_initializer` instead.\n"
     ]
    }
   ],
   "source": [
    "init = tf.initialize_all_variables()\n",
    "sess = tf.Session() "
   ]
  },
  {
   "cell_type": "markdown",
   "metadata": {},
   "source": [
    "## Correr programa"
   ]
  },
  {
   "cell_type": "code",
   "execution_count": 75,
   "metadata": {},
   "outputs": [],
   "source": [
    "sess.run(init)\n",
    "for i in range(50000):\n",
    "  sess.run(train_step, feed_dict={x: X, y_: Y})"
   ]
  },
  {
   "cell_type": "code",
   "execution_count": 76,
   "metadata": {},
   "outputs": [
    {
     "name": "stdout",
     "output_type": "stream",
     "text": [
      "[[ 0.1176854]]\n",
      "[[-4.94534922 -5.4506855 ]\n",
      " [ 5.15994596  5.3601675 ]]\n"
     ]
    }
   ],
   "source": [
    "#imprimir alguna variable\n",
    "print(sess.run(y, feed_dict={x:[[0.8,0.5]]}))\n",
    "print(sess.run(W_layer1, feed_dict={x: X, y_: Y}))"
   ]
  },
  {
   "cell_type": "markdown",
   "metadata": {},
   "source": [
    "## Cuantificar Error"
   ]
  },
  {
   "cell_type": "code",
   "execution_count": 77,
   "metadata": {},
   "outputs": [
    {
     "name": "stdout",
     "output_type": "stream",
     "text": [
      "1.0\n"
     ]
    }
   ],
   "source": [
    "correct_prediction = tf.equal(tf.round(y),y_) # aca estams definiendo otras operacioes\n",
    "accuracy = tf.reduce_mean(tf.cast(correct_prediction, tf.float32))\n",
    "print(sess.run(accuracy, feed_dict={x: X, y_: Y})) # las corremos"
   ]
  },
  {
   "cell_type": "markdown",
   "metadata": {},
   "source": [
    "Visualizar Barrera de Decisión. Sacar las w del grafo de Tensorflow"
   ]
  },
  {
   "cell_type": "code",
   "execution_count": 90,
   "metadata": {},
   "outputs": [],
   "source": [
    "w1=[sess.run(b_layer1, feed_dict={x: X, y_: Y})[1]]+[i[0] for i in sess.run(W_layer1, feed_dict={x: X, y_: Y})]"
   ]
  },
  {
   "cell_type": "code",
   "execution_count": 92,
   "metadata": {},
   "outputs": [],
   "source": [
    "w2=[sess.run(b_layer2, feed_dict={x: X, y_: Y})]+[i[0] for i in sess.run(W_layer2, feed_dict={x: X, y_: Y})]"
   ]
  },
  {
   "cell_type": "code",
   "execution_count": 93,
   "metadata": {},
   "outputs": [],
   "source": [
    "m1=((w1[0]/w1[2]))/((-w1[0]/w1[1]))\n",
    "m2=((w2[0]/w2[2]))/((-w2[0]/w2[1]))"
   ]
  },
  {
   "cell_type": "code",
   "execution_count": 95,
   "metadata": {},
   "outputs": [
    {
     "data": {
      "text/plain": [
       "(-0.5, 1.5)"
      ]
     },
     "execution_count": 95,
     "metadata": {},
     "output_type": "execute_result"
    },
    {
     "data": {
      "image/png": "[encoded data removed]",
      "text/plain": [
       "<matplotlib.figure.Figure at 0x7f38dc72ec50>"
      ]
     },
     "metadata": {},
     "output_type": "display_data"
    }
   ],
   "source": [
    "plt.scatter(X[:,0],X[:,1],c=['red' if i==1 else 'blue' for i in Y])\n",
    "x2 = np.linspace(-0.5,1.5,100) # 100 numeros espaciados\n",
    "plt.plot(x2,-w1[0]/w1[2]+m1*x2,color='red')\n",
    "plt.plot(x2,-w2[0]/w2[2]+m2*x2,color='red')\n",
    "plt.ylim([-0.5,1.5])\n",
    "plt.xlim([-0.5,1.5])"
   ]
  },
  {
   "cell_type": "code",
   "execution_count": 96,
   "metadata": {},
   "outputs": [],
   "source": [
    "sess.close()"
   ]
  },
  {
   "cell_type": "code",
   "execution_count": null,
   "metadata": {},
   "outputs": [],
   "source": []
  }
 ],
 "metadata": {
  "kernelspec": {
   "display_name": "Python 2",
   "language": "python",
   "name": "python2"
  },
  "language_info": {
   "codemirror_mode": {
    "name": "ipython",
    "version": 2
   },
   "file_extension": ".py",
   "mimetype": "text/x-python",
   "name": "python",
   "nbconvert_exporter": "python",
   "pygments_lexer": "ipython2",
   "version": "2.7.12"
  }
 },
 "nbformat": 4,
 "nbformat_minor": 1
}
