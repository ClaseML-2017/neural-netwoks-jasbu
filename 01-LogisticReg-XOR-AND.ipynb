{
 "cells": [
  {
   "cell_type": "code",
   "execution_count": 1,
   "metadata": {},
   "outputs": [],
   "source": [
    "import tensorflow as tf\n",
    "import numpy as np\n",
    "from __future__ import division"
   ]
  },
  {
   "cell_type": "code",
   "execution_count": 2,
   "metadata": {},
   "outputs": [],
   "source": [
    "import matplotlib.pyplot as plt\n",
    "%matplotlib inline"
   ]
  },
  {
   "cell_type": "markdown",
   "metadata": {},
   "source": [
    "# Ejemplo Perceptrón con sigmoide (regresión logística) - XOR"
   ]
  },
  {
   "cell_type": "code",
   "execution_count": 3,
   "metadata": {},
   "outputs": [],
   "source": [
    "X=np.asarray([[0,0],[0,1],[1,0],[1,1]])\n",
    "Y=np.asarray([[0],[1],[1],[0]])"
   ]
  },
  {
   "cell_type": "markdown",
   "metadata": {},
   "source": [
    "Declaracion de variables"
   ]
  },
  {
   "cell_type": "code",
   "execution_count": 4,
   "metadata": {},
   "outputs": [],
   "source": [
    "input_size=2\n",
    "output_layer_size=1\n",
    "#Los placeholders son para los datos de entrada\n",
    "x = tf.placeholder(tf.float32, [None, input_size])\n",
    "y_ = tf.placeholder(tf.float32, [None, output_layer_size]) #la y real\n",
    "#La variables para lo que se va a ir calculando y modificando en el camino\n",
    "W_layer1=tf.Variable(tf.random_uniform([input_size,output_layer_size], -1, 1), name=\"W_layer1\")\n",
    "b_layer1 = tf.Variable(tf.zeros([output_layer_size]), name=\"b_layer1\")\n"
   ]
  },
  {
   "cell_type": "markdown",
   "metadata": {},
   "source": [
    "Operaciones, grafo"
   ]
  },
  {
   "cell_type": "code",
   "execution_count": 5,
   "metadata": {},
   "outputs": [],
   "source": [
    "y = tf.nn.sigmoid(tf.matmul(x,W_layer1)+b_layer1) #la de nuestra\n",
    "lossfn = tf.reduce_mean(tf.reduce_sum((y_-y)**2)) #cuadratico\n",
    "#lossfn= tf.reduce_mean(( (y_ * tf.log(y)) +  \n",
    " # ((1 - y_) * tf.log(1.0 - y)) ) * -1) # cross entropy\n",
    "train_step = tf.train.GradientDescentOptimizer(0.01).minimize(lossfn)"
   ]
  },
  {
   "cell_type": "code",
   "execution_count": 6,
   "metadata": {},
   "outputs": [
    {
     "name": "stdout",
     "output_type": "stream",
     "text": [
      "WARNING:tensorflow:From /home/asbu/.local/lib/python2.7/site-packages/tensorflow/python/util/tf_should_use.py:175: initialize_all_variables (from tensorflow.python.ops.variables) is deprecated and will be removed after 2017-03-02.\n",
      "Instructions for updating:\n",
      "Use `tf.global_variables_initializer` instead.\n"
     ]
    }
   ],
   "source": [
    "init = tf.initialize_all_variables()\n",
    "sess = tf.Session() # tipo de sesion, puede ser interactiva\n"
   ]
  },
  {
   "cell_type": "markdown",
   "metadata": {},
   "source": [
    "Correr programa"
   ]
  },
  {
   "cell_type": "code",
   "execution_count": 7,
   "metadata": {},
   "outputs": [],
   "source": [
    "sess.run(init)\n",
    "for i in range(5000):\n",
    "  sess.run(train_step, feed_dict={x: X, y_: Y})"
   ]
  },
  {
   "cell_type": "code",
   "execution_count": 8,
   "metadata": {},
   "outputs": [
    {
     "name": "stdout",
     "output_type": "stream",
     "text": [
      "[[ 0.50008869]]\n",
      "[[ 0.00359721]\n",
      " [ 0.00422999]]\n"
     ]
    }
   ],
   "source": [
    "#imprimir alguna variable\n",
    "print(sess.run(y, feed_dict={x:[[0.8,0.5]]}))\n",
    "print(sess.run(W_layer1, feed_dict={x: X, y_: Y}))"
   ]
  },
  {
   "cell_type": "markdown",
   "metadata": {},
   "source": [
    "Cuantificar Error"
   ]
  },
  {
   "cell_type": "code",
   "execution_count": 9,
   "metadata": {},
   "outputs": [
    {
     "name": "stdout",
     "output_type": "stream",
     "text": [
      "0.25\n"
     ]
    }
   ],
   "source": [
    "correct_prediction = tf.equal(tf.round(y),y_) # aca estams definiendo otras operacioes\n",
    "accuracy = tf.reduce_mean(tf.cast(correct_prediction, tf.float32))\n",
    "print(sess.run(accuracy, feed_dict={x: X, y_: Y})) # las corremos"
   ]
  },
  {
   "cell_type": "markdown",
   "metadata": {},
   "source": [
    "Visualizar Barrera de Decisión. Sacar las w del grafo de Tensorflow"
   ]
  },
  {
   "cell_type": "code",
   "execution_count": 10,
   "metadata": {},
   "outputs": [],
   "source": [
    "w=[sess.run(b_layer1, feed_dict={x: X, y_: Y})[0]]+[i[0] for i in sess.run(W_layer1, feed_dict={x: X, y_: Y})]"
   ]
  },
  {
   "cell_type": "code",
   "execution_count": 11,
   "metadata": {},
   "outputs": [
    {
     "name": "stdout",
     "output_type": "stream",
     "text": [
      "1.28932 1.09645 -0.850405\n"
     ]
    }
   ],
   "source": [
    "m=((w[0]/w[2]))/((-w[0]/w[1]))\n",
    "print -w[0]/w[1], -w[0]/w[2], m"
   ]
  },
  {
   "cell_type": "code",
   "execution_count": 12,
   "metadata": {},
   "outputs": [
    {
     "data": {
      "text/plain": [
       "(-5.2, 5.2)"
      ]
     },
     "execution_count": 12,
     "metadata": {},
     "output_type": "execute_result"
    },
    {
     "data": {
      "image/png": "[encoded data removed]",
      "text/plain": [
       "<matplotlib.figure.Figure at 0x7effe932ffd0>"
      ]
     },
     "metadata": {},
     "output_type": "display_data"
    }
   ],
   "source": [
    "plt.scatter(X[:,0],X[:,1],c=['red' if i==1 else 'blue' for i in Y])\n",
    "x2 = np.linspace(-5.2,5.2,100) # 100 numeros espaciados\n",
    "plt.plot(x2,-w[0]/w[2]+m*x2,color='red')\n",
    "plt.ylim([-5.2,5.2])\n",
    "plt.xlim([-5.2,5.2])"
   ]
  },
  {
   "cell_type": "code",
   "execution_count": 13,
   "metadata": {},
   "outputs": [],
   "source": [
    "sess.close()"
   ]
  },
  {
   "cell_type": "markdown",
   "metadata": {
    "collapsed": true
   },
   "source": [
    "# Ejemplo Perceptrón con sigmoide (regresión logística) - AND"
   ]
  },
  {
   "cell_type": "code",
   "execution_count": 16,
   "metadata": {},
   "outputs": [],
   "source": [
    "X=np.asarray([[0,0],[0,1],[1,0],[1,1]])\n",
    "Y=np.asarray([[0],[0],[0],[1]])"
   ]
  },
  {
   "cell_type": "markdown",
   "metadata": {},
   "source": [
    "Declaracion de variables"
   ]
  },
  {
   "cell_type": "code",
   "execution_count": 17,
   "metadata": {},
   "outputs": [],
   "source": [
    "input_size=2\n",
    "output_layer_size=1\n",
    "#Los placeholders son para los datos de entrada\n",
    "x = tf.placeholder(tf.float32, [None, input_size])\n",
    "y_ = tf.placeholder(tf.float32, [None, output_layer_size]) #la y real\n",
    "#La variables para lo que se va a ir calculando y modificando en el camino\n",
    "W_layer1 = tf.Variable(tf.random_uniform([input_size,output_layer_size], -1, 1), name=\"W_layer1\")\n",
    "b_layer1 = tf.Variable(tf.zeros([output_layer_size]), name=\"b_layer1\")\n"
   ]
  },
  {
   "cell_type": "markdown",
   "metadata": {},
   "source": [
    "Operaciones, grafo"
   ]
  },
  {
   "cell_type": "code",
   "execution_count": 18,
   "metadata": {},
   "outputs": [],
   "source": [
    "y = tf.nn.sigmoid(tf.matmul(x,W_layer1)+b_layer1) #la de nuestra\n",
    "lossfn = tf.reduce_mean(tf.reduce_sum((y_-y)**2)) #cuadratico\n",
    "#lossfn= tf.reduce_mean(( (y_ * tf.log(y)) +  \n",
    " # ((1 - y_) * tf.log(1.0 - y)) ) * -1) # cross entropy\n",
    "train_step = tf.train.GradientDescentOptimizer(0.01).minimize(lossfn)"
   ]
  },
  {
   "cell_type": "code",
   "execution_count": 19,
   "metadata": {},
   "outputs": [
    {
     "name": "stdout",
     "output_type": "stream",
     "text": [
      "WARNING:tensorflow:From /home/asbu/.local/lib/python2.7/site-packages/tensorflow/python/util/tf_should_use.py:175: initialize_all_variables (from tensorflow.python.ops.variables) is deprecated and will be removed after 2017-03-02.\n",
      "Instructions for updating:\n",
      "Use `tf.global_variables_initializer` instead.\n"
     ]
    }
   ],
   "source": [
    "init = tf.initialize_all_variables()\n",
    "sess = tf.Session() # tipo de sesion, puede ser interactiva\n"
   ]
  },
  {
   "cell_type": "markdown",
   "metadata": {},
   "source": [
    "Correr programa"
   ]
  },
  {
   "cell_type": "code",
   "execution_count": 20,
   "metadata": {},
   "outputs": [],
   "source": [
    "sess.run(init)\n",
    "for i in range(5000):\n",
    "  sess.run(train_step, feed_dict={x: X, y_: Y})"
   ]
  },
  {
   "cell_type": "code",
   "execution_count": 21,
   "metadata": {},
   "outputs": [
    {
     "name": "stdout",
     "output_type": "stream",
     "text": [
      "[[ 0.34663931]]\n",
      "[[ 2.5289824 ]\n",
      " [ 2.52848887]]\n"
     ]
    }
   ],
   "source": [
    "#imprimir alguna variable\n",
    "print(sess.run(y, feed_dict={x:[[0.8,0.5]]}))\n",
    "print(sess.run(W_layer1, feed_dict={x: X, y_: Y}))"
   ]
  },
  {
   "cell_type": "markdown",
   "metadata": {},
   "source": [
    "Cuantificar Error"
   ]
  },
  {
   "cell_type": "code",
   "execution_count": 22,
   "metadata": {},
   "outputs": [
    {
     "name": "stdout",
     "output_type": "stream",
     "text": [
      "1.0\n"
     ]
    }
   ],
   "source": [
    "correct_prediction = tf.equal(tf.round(y),y_) # aca estams definiendo otras operacioes\n",
    "accuracy = tf.reduce_mean(tf.cast(correct_prediction, tf.float32))\n",
    "print(sess.run(accuracy, feed_dict={x: X, y_: Y})) # las corremos"
   ]
  },
  {
   "cell_type": "markdown",
   "metadata": {},
   "source": [
    "Visualizar Barrera de Decisión. Sacar las w del grafo de Tensorflow"
   ]
  },
  {
   "cell_type": "code",
   "execution_count": 23,
   "metadata": {},
   "outputs": [],
   "source": [
    "w=[sess.run(b_layer1, feed_dict={x: X, y_: Y})[0]]+[i[0] for i in sess.run(W_layer1, feed_dict={x: X, y_: Y})]"
   ]
  },
  {
   "cell_type": "code",
   "execution_count": 24,
   "metadata": {},
   "outputs": [
    {
     "name": "stdout",
     "output_type": "stream",
     "text": [
      "1.55053 1.55084 -1.0002\n"
     ]
    }
   ],
   "source": [
    "m=((w[0]/w[2]))/((-w[0]/w[1]))\n",
    "print -w[0]/w[1], -w[0]/w[2], m"
   ]
  },
  {
   "cell_type": "code",
   "execution_count": 25,
   "metadata": {},
   "outputs": [
    {
     "data": {
      "text/plain": [
       "(-5.2, 5.2)"
      ]
     },
     "execution_count": 25,
     "metadata": {},
     "output_type": "execute_result"
    },
    {
     "data": {
      "image/png": "[encoded data removed]",
      "text/plain": [
       "<matplotlib.figure.Figure at 0x7effe436bf90>"
      ]
     },
     "metadata": {},
     "output_type": "display_data"
    }
   ],
   "source": [
    "plt.scatter(X[:,0],X[:,1],c=['red' if i==1 else 'blue' for i in Y])\n",
    "x2 = np.linspace(-5.2,5.2,100) # 100 numeros espaciados\n",
    "plt.plot(x2,-w[0]/w[2]+m*x2,color='red')\n",
    "plt.ylim([-5.2,5.2])\n",
    "plt.xlim([-5.2,5.2])"
   ]
  },
  {
   "cell_type": "code",
   "execution_count": 26,
   "metadata": {},
   "outputs": [],
   "source": [
    "sess.close()"
   ]
  },
  {
   "cell_type": "code",
   "execution_count": null,
   "metadata": {},
   "outputs": [],
   "source": []
  }
 ],
 "metadata": {
  "kernelspec": {
   "display_name": "Python 2",
   "language": "python",
   "name": "python2"
  },
  "language_info": {
   "codemirror_mode": {
    "name": "ipython",
    "version": 2
   },
   "file_extension": ".py",
   "mimetype": "text/x-python",
   "name": "python",
   "nbconvert_exporter": "python",
   "pygments_lexer": "ipython2",
   "version": "2.7.12"
  }
 },
 "nbformat": 4,
 "nbformat_minor": 1
}
